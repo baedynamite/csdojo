{
 "cells": [
  {
   "cell_type": "code",
   "execution_count": 8,
   "metadata": {},
   "outputs": [],
   "source": [
    "name1 = \"alex\"\n",
    "age1 = 10\n",
    "weight1 = 100\n",
    "height1 = 10\n",
    "\n",
    "name2 = \"alex sister\"\n",
    "age2 = 20\n",
    "weight2 = 100\n",
    "height1 = 100\n",
    "\n",
    "name3 = \"alex mom\"\n",
    "age3 = 40\n",
    "weight4 = 100\n",
    "height4 = 100\n"
   ]
  },
  {
   "cell_type": "code",
   "execution_count": 10,
   "metadata": {},
   "outputs": [],
   "source": [
    "def calc_bmit(name, age, weight, height):\n",
    "    if(weight / (height ** 2)) > 100:\n",
    "        print(name + \" \" + str(age) + \" is overweight\")\n",
    "    elif(weight / (height **2)) == 100:\n",
    "        print(name + \" \" + str(age) + \" is at the boundary\")\n",
    "    else:\n",
    "        print(name + \" \" + str(age) + \" is not overweight\")"
   ]
  },
  {
   "cell_type": "code",
   "execution_count": 11,
   "metadata": {},
   "outputs": [
    {
     "name": "stdout",
     "output_type": "stream",
     "text": [
      "alex 10 is not overweight\n"
     ]
    }
   ],
   "source": [
    "calc_bmit(name1, age1, weight1, height1)"
   ]
  },
  {
   "cell_type": "code",
   "execution_count": null,
   "metadata": {},
   "outputs": [],
   "source": [
    "for(i = 0)"
   ]
  },
  {
   "cell_type": "code",
   "execution_count": null,
   "metadata": {},
   "outputs": [],
   "source": []
  },
  {
   "cell_type": "code",
   "execution_count": null,
   "metadata": {},
   "outputs": [],
   "source": []
  }
 ],
 "metadata": {
  "kernelspec": {
   "display_name": "Python 3",
   "language": "python",
   "name": "python3"
  },
  "language_info": {
   "codemirror_mode": {
    "name": "ipython",
    "version": 3
   },
   "file_extension": ".py",
   "mimetype": "text/x-python",
   "name": "python",
   "nbconvert_exporter": "python",
   "pygments_lexer": "ipython3",
   "version": "3.8.3"
  }
 },
 "nbformat": 4,
 "nbformat_minor": 4
}
