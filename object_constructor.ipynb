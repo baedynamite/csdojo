{
 "cells": [
  {
   "cell_type": "code",
   "execution_count": 6,
   "metadata": {},
   "outputs": [
    {
     "name": "stdout",
     "output_type": "stream",
     "text": [
      "the color and name YK Yellow\n"
     ]
    }
   ],
   "source": [
    "class robot:\n",
    "    def __init__(this, rname, rcolor):\n",
    "        this.name = rname\n",
    "        this.color = rcolor\n",
    "        \n",
    "    def intro(this):\n",
    "        print(\"the color and name \" + this.name + \" \" + this.color)\n",
    "        \n",
    "r1 = robot(\"YK\", \"Yellow\")\n",
    "r1.intro()\n",
    "    \n",
    "\n",
    "\n"
   ]
  },
  {
   "cell_type": "code",
   "execution_count": 8,
   "metadata": {},
   "outputs": [
    {
     "name": "stdout",
     "output_type": "stream",
     "text": [
      "the color and name YK Yellow\n"
     ]
    }
   ],
   "source": [
    "    \n",
    "class person:\n",
    "    def __init__(this, name, friend):\n",
    "        this.name = name\n",
    "        this.friend = friend\n",
    "        \n",
    "    def sit_down(this):\n",
    "        print(this.name) \n",
    "        \n",
    "        \n",
    "        \n",
    "p1 = person(\"alicia\", \"false\")\n",
    "p1.ro1 = r1\n",
    "p1.ro1.intro()\n"
   ]
  },
  {
   "cell_type": "code",
   "execution_count": null,
   "metadata": {},
   "outputs": [],
   "source": []
  }
 ],
 "metadata": {
  "kernelspec": {
   "display_name": "Python 3",
   "language": "python",
   "name": "python3"
  },
  "language_info": {
   "codemirror_mode": {
    "name": "ipython",
    "version": 3
   },
   "file_extension": ".py",
   "mimetype": "text/x-python",
   "name": "python",
   "nbconvert_exporter": "python",
   "pygments_lexer": "ipython3",
   "version": "3.8.3"
  }
 },
 "nbformat": 4,
 "nbformat_minor": 4
}
